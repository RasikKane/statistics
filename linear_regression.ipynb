{
 "cells": [
  {
   "cell_type": "markdown",
   "metadata": {},
   "source": [
    "## Linear Regression"
   ]
  },
  {
   "cell_type": "code",
   "execution_count": 1,
   "metadata": {},
   "outputs": [],
   "source": [
    "import pandas as pd\n",
    "import numpy as np\n",
    "from math import sqrt\n",
    "\n",
    "import matplotlib"
   ]
  },
  {
   "cell_type": "markdown",
   "metadata": {},
   "source": [
    "### Data"
   ]
  },
  {
   "cell_type": "code",
   "execution_count": 2,
   "metadata": {},
   "outputs": [],
   "source": [
    "df = pd.DataFrame(columns=['x', 'y', 'x2', 'y2', 'xy'])"
   ]
  },
  {
   "cell_type": "code",
   "execution_count": 3,
   "metadata": {},
   "outputs": [],
   "source": [
    "## DATAFRME\n",
    "df['x'] = [1.24,1.35,1.11,1.84,2.03,2.12,1.98,1.65,1,1.5,1.79,1.56]\n",
    "df['y'] = [63.96,66.33,62.91,78.57,80.49,81.72,78.88, 73.77,58.68,68.32,75.16,68.5]\n",
    "df['x2'] = df['x']**2\n",
    "df['y2'] = df['y']**2\n",
    "df['xy'] = df['x']*df['y']\n",
    "df = df.round(2)"
   ]
  },
  {
   "cell_type": "code",
   "execution_count": 4,
   "metadata": {
    "scrolled": true
   },
   "outputs": [
    {
     "data": {
      "text/html": [
       "<div>\n",
       "<style scoped>\n",
       "    .dataframe tbody tr th:only-of-type {\n",
       "        vertical-align: middle;\n",
       "    }\n",
       "\n",
       "    .dataframe tbody tr th {\n",
       "        vertical-align: top;\n",
       "    }\n",
       "\n",
       "    .dataframe thead th {\n",
       "        text-align: right;\n",
       "    }\n",
       "</style>\n",
       "<table border=\"1\" class=\"dataframe\">\n",
       "  <thead>\n",
       "    <tr style=\"text-align: right;\">\n",
       "      <th></th>\n",
       "      <th>x</th>\n",
       "      <th>y</th>\n",
       "      <th>x2</th>\n",
       "      <th>y2</th>\n",
       "      <th>xy</th>\n",
       "    </tr>\n",
       "  </thead>\n",
       "  <tbody>\n",
       "    <tr>\n",
       "      <th>0</th>\n",
       "      <td>1.24</td>\n",
       "      <td>63.96</td>\n",
       "      <td>1.54</td>\n",
       "      <td>4090.88</td>\n",
       "      <td>79.31</td>\n",
       "    </tr>\n",
       "    <tr>\n",
       "      <th>1</th>\n",
       "      <td>1.35</td>\n",
       "      <td>66.33</td>\n",
       "      <td>1.82</td>\n",
       "      <td>4399.67</td>\n",
       "      <td>89.55</td>\n",
       "    </tr>\n",
       "    <tr>\n",
       "      <th>2</th>\n",
       "      <td>1.11</td>\n",
       "      <td>62.91</td>\n",
       "      <td>1.23</td>\n",
       "      <td>3957.67</td>\n",
       "      <td>69.83</td>\n",
       "    </tr>\n",
       "    <tr>\n",
       "      <th>3</th>\n",
       "      <td>1.84</td>\n",
       "      <td>78.57</td>\n",
       "      <td>3.39</td>\n",
       "      <td>6173.24</td>\n",
       "      <td>144.57</td>\n",
       "    </tr>\n",
       "    <tr>\n",
       "      <th>4</th>\n",
       "      <td>2.03</td>\n",
       "      <td>80.49</td>\n",
       "      <td>4.12</td>\n",
       "      <td>6478.64</td>\n",
       "      <td>163.39</td>\n",
       "    </tr>\n",
       "    <tr>\n",
       "      <th>5</th>\n",
       "      <td>2.12</td>\n",
       "      <td>81.72</td>\n",
       "      <td>4.49</td>\n",
       "      <td>6678.16</td>\n",
       "      <td>173.25</td>\n",
       "    </tr>\n",
       "    <tr>\n",
       "      <th>6</th>\n",
       "      <td>1.98</td>\n",
       "      <td>78.88</td>\n",
       "      <td>3.92</td>\n",
       "      <td>6222.05</td>\n",
       "      <td>156.18</td>\n",
       "    </tr>\n",
       "    <tr>\n",
       "      <th>7</th>\n",
       "      <td>1.65</td>\n",
       "      <td>73.77</td>\n",
       "      <td>2.72</td>\n",
       "      <td>5442.01</td>\n",
       "      <td>121.72</td>\n",
       "    </tr>\n",
       "    <tr>\n",
       "      <th>8</th>\n",
       "      <td>1.00</td>\n",
       "      <td>58.68</td>\n",
       "      <td>1.00</td>\n",
       "      <td>3443.34</td>\n",
       "      <td>58.68</td>\n",
       "    </tr>\n",
       "    <tr>\n",
       "      <th>9</th>\n",
       "      <td>1.50</td>\n",
       "      <td>68.32</td>\n",
       "      <td>2.25</td>\n",
       "      <td>4667.62</td>\n",
       "      <td>102.48</td>\n",
       "    </tr>\n",
       "    <tr>\n",
       "      <th>10</th>\n",
       "      <td>1.79</td>\n",
       "      <td>75.16</td>\n",
       "      <td>3.20</td>\n",
       "      <td>5649.03</td>\n",
       "      <td>134.54</td>\n",
       "    </tr>\n",
       "    <tr>\n",
       "      <th>11</th>\n",
       "      <td>1.56</td>\n",
       "      <td>68.50</td>\n",
       "      <td>2.43</td>\n",
       "      <td>4692.25</td>\n",
       "      <td>106.86</td>\n",
       "    </tr>\n",
       "  </tbody>\n",
       "</table>\n",
       "</div>"
      ],
      "text/plain": [
       "       x      y    x2       y2      xy\n",
       "0   1.24  63.96  1.54  4090.88   79.31\n",
       "1   1.35  66.33  1.82  4399.67   89.55\n",
       "2   1.11  62.91  1.23  3957.67   69.83\n",
       "3   1.84  78.57  3.39  6173.24  144.57\n",
       "4   2.03  80.49  4.12  6478.64  163.39\n",
       "5   2.12  81.72  4.49  6678.16  173.25\n",
       "6   1.98  78.88  3.92  6222.05  156.18\n",
       "7   1.65  73.77  2.72  5442.01  121.72\n",
       "8   1.00  58.68  1.00  3443.34   58.68\n",
       "9   1.50  68.32  2.25  4667.62  102.48\n",
       "10  1.79  75.16  3.20  5649.03  134.54\n",
       "11  1.56  68.50  2.43  4692.25  106.86"
      ]
     },
     "execution_count": 4,
     "metadata": {},
     "output_type": "execute_result"
    }
   ],
   "source": [
    "df"
   ]
  },
  {
   "cell_type": "code",
   "execution_count": 5,
   "metadata": {},
   "outputs": [
    {
     "data": {
      "text/plain": [
       "<AxesSubplot:xlabel='x', ylabel='y'>"
      ]
     },
     "execution_count": 5,
     "metadata": {},
     "output_type": "execute_result"
    },
    {
     "data": {
      "image/png": "[encoded data removed]",
      "text/plain": [
       "<Figure size 432x288 with 1 Axes>"
      ]
     },
     "metadata": {
      "needs_background": "light"
     },
     "output_type": "display_data"
    }
   ],
   "source": [
    "df.plot(x=\"x\", y=\"y\", kind='scatter')"
   ]
  },
  {
   "cell_type": "markdown",
   "metadata": {},
   "source": [
    "### Statistics "
   ]
  },
  {
   "cell_type": "code",
   "execution_count": 6,
   "metadata": {},
   "outputs": [
    {
     "name": "stdout",
     "output_type": "stream",
     "text": [
      "n: 12\n"
     ]
    }
   ],
   "source": [
    "n = len(df)\n",
    "print(\"n:\",n)"
   ]
  },
  {
   "cell_type": "code",
   "execution_count": 7,
   "metadata": {
    "scrolled": true
   },
   "outputs": [
    {
     "name": "stdout",
     "output_type": "stream",
     "text": [
      "Summations {'x': 19.17, 'y': 857.29, 'x2': 32.11, 'y2': 61894.56, 'xy': 1400.36}\n"
     ]
    }
   ],
   "source": [
    "addn = df.sum().round(4).to_dict()\n",
    "print(\"Summations\",addn)"
   ]
  },
  {
   "cell_type": "code",
   "execution_count": 8,
   "metadata": {
    "scrolled": true
   },
   "outputs": [
    {
     "name": "stdout",
     "output_type": "stream",
     "text": [
      "avg {'x': 1.5975, 'y': 71.4408, 'x2': 2.6758, 'y2': 5157.88, 'xy': 116.6967}\n"
     ]
    }
   ],
   "source": [
    "avg = df.mean().round(4).to_dict()\n",
    "print(\"avg\",avg)"
   ]
  },
  {
   "cell_type": "markdown",
   "metadata": {},
   "source": [
    "<br>\n",
    "\n",
    "### Correlation coefficient, $S_{xx}, S_{yy}, S_{xy}$\n",
    "\n",
    "**r = $\\frac{S_(xy)}{\\sqrt{S_(xx) S_(yy)}}$**\n",
    "\n",
    "WHERE <br>\n",
    "\n",
    "* **$S_(xy) =  \\sum_{i=1}^{n} (x_i - \\bar x)(y_i - \\bar y) \\ \\ = \\sum xy \\ - \\ \\frac{\\sum x \\sum y}{n} $**\n",
    "* **$S_(xx) =  \\sum_{i=1}^{n} (x_i - \\bar x)^2 \\ \\ = \\ (\\sum x^2) \\  - \\frac{(\\sum x)^2}{n}$**\n",
    "* **$S_(yy) =  \\sum_{i=1}^{n} (y_i - \\bar y)^2 \\ \\ = \\ (\\sum y^2) \\  - \\frac{(\\sum y)^2}{n}$**\n",
    "\n",
    "\n",
    "**r = $\\Large \\frac{\\sum xy \\ - \\ \\frac{\\sum x \\sum y}{n} }{\\sqrt {[(\\sum x^2) \\  - \\frac{(\\sum x)^2}{n}][(\\sum y^2) \\  - \\frac{(\\sum y)^2}{n}]}}$**"
   ]
  },
  {
   "cell_type": "code",
   "execution_count": 9,
   "metadata": {},
   "outputs": [
    {
     "name": "stdout",
     "output_type": "stream",
     "text": [
      "Sxy:30.839224999999942 Sxx:1.4859249999999946 Syy:649.0479916666736 \n",
      "r: 0.993\n"
     ]
    }
   ],
   "source": [
    "# Numerator\n",
    "S_xy = addn['xy'] - (((addn['x']*addn['y']) / n))\n",
    "num_r = S_xy \n",
    "# denominator\n",
    "S_xx = (addn['x2'] - (pow(addn['x'],2) / n)) \n",
    "S_yy = (addn['y2'] - (pow(addn['y'],2) / n))\n",
    "den_r = sqrt(S_xx*S_yy)\n",
    "\n",
    "# correlation coefficient\n",
    "r = round((num_r/den_r),4)\n",
    "print(\"Sxy:{} Sxx:{} Syy:{} \".format(S_xy,S_xx,S_yy))\n",
    "print(\"r:\",r)"
   ]
  },
  {
   "cell_type": "markdown",
   "metadata": {},
   "source": [
    "## Linear Regression a, b\n",
    "\n",
    "**$\\large \\hat y = a + bx$** <br>\n",
    "\n",
    "FOR BEST FIT LINE : <br>\n",
    "\n",
    "**$\\large  b = \\frac{S_(xy)}{S_(xx)} \\ = \\ \\frac{\\sum (x\\ - \\ \\bar x)(y\\ - \\ \\bar y)}{\\sum (x - \\bar x)^2} = \\ \\ \\frac{\\sum xy \\ - \\ \\frac{\\sum x \\sum y}{n} }{(\\sum x^2) \\  - \\frac{(\\sum x)^2}{n}}  \\ \\ AND $**\n",
    "\n",
    "**$\\large \\bar y \\ = \\ a\\ + b\\bar x $**"
   ]
  },
  {
   "cell_type": "code",
   "execution_count": 10,
   "metadata": {},
   "outputs": [
    {
     "name": "stdout",
     "output_type": "stream",
     "text": [
      "xBar:1.5975 yBar:71.4408\n",
      "a:38.2863 b:20.754\n"
     ]
    }
   ],
   "source": [
    "# Numerator\n",
    "num_r = addn['xy'] - (((addn['x']*addn['y']) / n))\n",
    "# denominator\n",
    "den_r = (addn['x2'] - (pow(addn['x'],2) / n))\n",
    "\n",
    "# b\n",
    "b = round((num_r/den_r),3)\n",
    "\n",
    "# a\n",
    "a = round((avg['y']-(b*avg['x'])),4)\n",
    "\n",
    "print('xBar:{} yBar:{}'.format(avg['x'],avg['y']))\n",
    "print('a:{} b:{}'.format(a,b))"
   ]
  },
  {
   "cell_type": "markdown",
   "metadata": {},
   "source": [
    "## Assessing fit line"
   ]
  },
  {
   "cell_type": "markdown",
   "metadata": {},
   "source": [
    "### Residuals $SS_{Tot}, SS_{Resid}, SS_{Reg}$\n",
    "\n",
    "$Total\\ Variation = Explained\\ variation \\ +\\ Unexplained\\ variation$ <br> \n",
    "\n",
    "THAT IS : <br>\n",
    "$SS_{tot} = SS_{Reg} + SS_{Resid}$ <br>\n",
    "\n",
    "ALGEBRICALLY: <br>\n",
    "$\\sum (y\\ - \\ \\bar y)^2 = \\sum (\\hat y\\ - \\ \\bar y)^2 \\ + \\ \\sum (y \\ - \\hat y)^2 $ <br>\n",
    "\n",
    "THUS <br>\n",
    "$SS_{Tot} = \\sum y^2 - \\frac{(\\sum y)^2}{n}$ <br>\n",
    "$SS_{Resid} = \\sum y^2 -\\ a\\sum y -\\ b\\sum xy$ <br>\n",
    "$SS_{Reg} =\\  SS_{tot} - SS_{Resid}$ <br>"
   ]
  },
  {
   "cell_type": "code",
   "execution_count": 11,
   "metadata": {},
   "outputs": [
    {
     "name": "stdout",
     "output_type": "stream",
     "text": [
      "SS_tot:649.048 SS_resid:9.0264 SS_reg:640.02\n"
     ]
    }
   ],
   "source": [
    "# total variation\n",
    "SS_tot = round((addn['y2'] - (pow(addn['y'],2)/n)),4)\n",
    "# Explained variation\n",
    "SS_resid = round((addn['y2'] - (a*addn['y']) - (b*addn['xy'])),4)\n",
    "# unexplained variation\n",
    "SS_reg = round((SS_tot - SS_resid),2)\n",
    "\n",
    "print(\"SS_tot:{} SS_resid:{} SS_reg:{}\".format(SS_tot,SS_resid,SS_reg))"
   ]
  },
  {
   "cell_type": "markdown",
   "metadata": {},
   "source": [
    "### Coefficient of Determination : r2\n",
    "$\\large r^2 = \\frac{SS_{Reg}}{SS_{Tot}} \\ = 1 -\\ \\frac{SS_{Resid}}{SS_{Tot}}$ <br>"
   ]
  },
  {
   "cell_type": "code",
   "execution_count": 12,
   "metadata": {},
   "outputs": [
    {
     "name": "stdout",
     "output_type": "stream",
     "text": [
      "r2:  0.9861\n"
     ]
    }
   ],
   "source": [
    "# coefficient of determination\n",
    "r2 = round((SS_reg / SS_tot),4)\n",
    "\n",
    "print(\"r2: \",r2)"
   ]
  },
  {
   "cell_type": "markdown",
   "metadata": {},
   "source": [
    "### Standard deviation about Least Squares (LS) Line : $S_e, S_b$\n",
    "\n",
    "**$S_e = \\sqrt{\\frac{\\sum (y - \\hat y)^2}{n-2}} = \\ \\sqrt{\\frac{SS_{resid}}{n-2}}$** <br>\n",
    "**$S_b = \\sqrt{\\frac{(S_e)^2}{S_{xx}}} = \\ \\sqrt{\\frac{SS_{resid}}{n-2}}$**\n",
    "\n",
    "#### BEWARE : df = n-2 "
   ]
  },
  {
   "cell_type": "code",
   "execution_count": 13,
   "metadata": {},
   "outputs": [
    {
     "name": "stdout",
     "output_type": "stream",
     "text": [
      "Se2:  0.9026\n",
      "Se:  0.9501\n",
      "Sb:  0.7794\n"
     ]
    }
   ],
   "source": [
    "# standard deviation about LS line\n",
    "Se2 = round(SS_resid / (n-2),4)\n",
    "Se = round(sqrt(Se2),4)\n",
    "Sb = round(sqrt(Se2 / S_xx),4)\n",
    "print(\"Se2: \",Se2)\n",
    "print(\"Se: \",Se)\n",
    "print(\"Sb: \",Sb)"
   ]
  },
  {
   "cell_type": "markdown",
   "metadata": {},
   "source": [
    "### Confidence interval for $\\beta $\n"
   ]
  },
  {
   "cell_type": "markdown",
   "metadata": {},
   "source": [
    "#### from percent interval (eg. p = 95%), find P value for $\\frac{\\alpha}{2} * 100 = \\frac{1- (95/100)}{2} * 100 = 2.5$, and look up area in  $t_c$ [df = n-2] in % tables\n",
    "\n",
    "$CI = b\\ \\pm \\ (t_c)S_b$\n",
    "\n",
    "* Calcuate $Sb$ using :\n",
    "    * $S_e$ which needs $SS_{resid}$\n",
    "    * $S_{xx}$"
   ]
  },
  {
   "cell_type": "code",
   "execution_count": 14,
   "metadata": {},
   "outputs": [
    {
     "name": "stdout",
     "output_type": "stream",
     "text": [
      "P:::  5.0\n"
     ]
    }
   ],
   "source": [
    "def find_P(percentage):\n",
    "    return round((((1 - (percentage / 100))/ 2) * 100),4)\n",
    "\n",
    "print(\"P::: \", find_P(90))"
   ]
  },
  {
   "cell_type": "markdown",
   "metadata": {},
   "source": [
    "#### Enter Tc"
   ]
  },
  {
   "cell_type": "code",
   "execution_count": 15,
   "metadata": {},
   "outputs": [],
   "source": [
    "tc = 1.943"
   ]
  },
  {
   "cell_type": "code",
   "execution_count": 16,
   "metadata": {},
   "outputs": [
    {
     "name": "stdout",
     "output_type": "stream",
     "text": [
      "b:20.754 +- term:: 1.5144 pmean range:::19.2396 --> 22.2684 \n"
     ]
    }
   ],
   "source": [
    "def CI(b, tc, Sb):\n",
    "    return round((tc*Sb),4), round((b-(tc*Sb)), 4), round((b+(tc*Sb)), 4)\n",
    "\n",
    "\"\"\"CI(b, tc, Sb)\"\"\"\n",
    "print(\"b:{} +- term:: {} pmean range:::{} --> {} \".format(b, *CI(b, tc, Sb)))"
   ]
  },
  {
   "cell_type": "markdown",
   "metadata": {},
   "source": [
    "## Interpretation of $\\hat y$\n",
    "\n",
    "$StandardError = \\ S_{a+bx^*} = S_e \\sqrt{\\frac{1}{n}\\ + \\frac{(x^* - \\bar x)^2}{S_{xx}}}$\n",
    "\n",
    "$PredictionInterval_{a+bx^*} = a+bx^* \\pm t_c \\sqrt{(S_e)^2\\ + (S_{a+bx^*})^2}$"
   ]
  },
  {
   "cell_type": "code",
   "execution_count": 17,
   "metadata": {},
   "outputs": [
    {
     "name": "stdout",
     "output_type": "stream",
     "text": [
      "StandardError 12.3977\n",
      "a+bx*:401.48130000000003 +- term:: 24.15912479887051 pmean range:::[377.32217520112954, 425.6404247988705] \n"
     ]
    }
   ],
   "source": [
    "x_in = 17.5\n",
    "xBar = avg['x']\n",
    "\n",
    "#Standard error\n",
    "S_a_bx = round((Se * sqrt((1/n) +(pow((x_in - xBar),2)/(S_xx)))),4)\n",
    "S_a_bx2 = round(pow(S_a_bx,2),2)\n",
    "#Prediction interval\n",
    "a_bx = a + b*(x_in)\n",
    "pmterm = tc*sqrt(Se2 + S_a_bx2)\n",
    "interval = [a_bx-pmterm, a_bx+pmterm] \n",
    "print(\"StandardError\",S_a_bx)\n",
    "print(\"a+bx*:{} +- term:: {} pmean range:::{} \".format(a_bx,pmterm,interval))"
   ]
  },
  {
   "cell_type": "markdown",
   "metadata": {},
   "source": [
    "## Model Utility Test (Specific Test: H0 : $\\beta $ = 0)\n",
    "* **Calculate t -->  $\\ \\ \\ t = \\frac{b}{S_b}$**\n",
    "* **from t-table, find p-value of area under curve : p = 2(< Area t)**\n",
    "* Reject $H_o$ $ :  \\ \\ p \\lt \\alpha$"
   ]
  },
  {
   "cell_type": "code",
   "execution_count": 18,
   "metadata": {},
   "outputs": [
    {
     "name": "stdout",
     "output_type": "stream",
     "text": [
      "t:  26.6282\n"
     ]
    }
   ],
   "source": [
    "t = round((b/Sb),4)\n",
    "print(\"t: \",t)"
   ]
  }
 ],
 "metadata": {
  "kernelspec": {
   "display_name": "stat",
   "language": "python",
   "name": "stat"
  },
  "language_info": {
   "codemirror_mode": {
    "name": "ipython",
    "version": 3
   },
   "file_extension": ".py",
   "mimetype": "text/x-python",
   "name": "python",
   "nbconvert_exporter": "python",
   "pygments_lexer": "ipython3",
   "version": "3.9.4"
  },
  "toc": {
   "base_numbering": 1,
   "nav_menu": {},
   "number_sections": false,
   "sideBar": false,
   "skip_h1_title": false,
   "title_cell": "Table of Contents",
   "title_sidebar": "Contents",
   "toc_cell": false,
   "toc_position": {
    "height": "calc(100% - 180px)",
    "left": "10px",
    "top": "150px",
    "width": "382px"
   },
   "toc_section_display": true,
   "toc_window_display": true
  }
 },
 "nbformat": 4,
 "nbformat_minor": 4
}
