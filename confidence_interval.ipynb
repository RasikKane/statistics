{
 "cells": [
  {
   "cell_type": "markdown",
   "metadata": {},
   "source": [
    "## CONFIDENCE INTERVAL"
   ]
  },
  {
   "cell_type": "code",
   "execution_count": 1,
   "metadata": {},
   "outputs": [],
   "source": [
    "from math import sqrt\n",
    "from scipy.stats import zscore\n",
    "from scipy.stats import t\n",
    "from statistics import NormalDist"
   ]
  },
  {
   "cell_type": "markdown",
   "metadata": {},
   "source": [
    "## Large Sample Confidence Interval for a Population Mean"
   ]
  },
  {
   "cell_type": "code",
   "execution_count": 2,
   "metadata": {},
   "outputs": [],
   "source": [
    "xBar = 23.2\n",
    "sd = 2.86"
   ]
  },
  {
   "cell_type": "code",
   "execution_count": 3,
   "metadata": {},
   "outputs": [],
   "source": [
    "n = 24"
   ]
  },
  {
   "cell_type": "code",
   "execution_count": 4,
   "metadata": {},
   "outputs": [],
   "source": [
    "percent = 90"
   ]
  },
  {
   "cell_type": "code",
   "execution_count": 5,
   "metadata": {},
   "outputs": [],
   "source": [
    "Minority = 278\n",
    "# Minority = pHat*n"
   ]
  },
  {
   "cell_type": "code",
   "execution_count": 6,
   "metadata": {},
   "outputs": [
    {
     "name": "stdout",
     "output_type": "stream",
     "text": [
      "df 23\n"
     ]
    }
   ],
   "source": [
    "df = n - 1\n",
    "print(\"df\",df)"
   ]
  },
  {
   "cell_type": "markdown",
   "metadata": {},
   "source": [
    "### Std Error of mean\n",
    "**SE = $\\frac{s}{\\sqrt n}$**"
   ]
  },
  {
   "cell_type": "code",
   "execution_count": 7,
   "metadata": {},
   "outputs": [
    {
     "name": "stdout",
     "output_type": "stream",
     "text": [
      "SE 0.5838\n"
     ]
    }
   ],
   "source": [
    "SE = sd/sqrt(n)\n",
    "print(\"SE\",round(SE,4))"
   ]
  },
  {
   "cell_type": "markdown",
   "metadata": {},
   "source": [
    "### from percent interval (eg. p = 95%), find P value for $\\frac{\\alpha}{2} * 100 = \\frac{1- (95/100)}{2} * 100 = 2.5$, and look up area in $Z_c$ or $t_c$ [df = n-1] in % tables\n",
    "find x(P) for P=2.5 in Z % table--> 1.96 etc."
   ]
  },
  {
   "cell_type": "code",
   "execution_count": 8,
   "metadata": {},
   "outputs": [
    {
     "data": {
      "text/plain": [
       "0.1"
      ]
     },
     "execution_count": 8,
     "metadata": {},
     "output_type": "execute_result"
    }
   ],
   "source": [
    "alpha = 1 - (percent/100)\n",
    "alpha = round(alpha,4)\n",
    "alpha"
   ]
  },
  {
   "cell_type": "code",
   "execution_count": 9,
   "metadata": {},
   "outputs": [
    {
     "name": "stdout",
     "output_type": "stream",
     "text": [
      "P:::  5.0\n"
     ]
    }
   ],
   "source": [
    "def find_P(percentage):\n",
    "    return round(((alpha/ 2) * 100),3)\n",
    "\n",
    "P = find_P(alpha)\n",
    "print(\"P::: \", P)"
   ]
  },
  {
   "cell_type": "markdown",
   "metadata": {},
   "source": [
    "### NOW FIND $Z_c$ = x(P) in table!!!"
   ]
  },
  {
   "cell_type": "code",
   "execution_count": 10,
   "metadata": {},
   "outputs": [
    {
     "data": {
      "text/plain": [
       "1.6449"
      ]
     },
     "execution_count": 10,
     "metadata": {},
     "output_type": "execute_result"
    }
   ],
   "source": [
    "Zc = round(NormalDist().inv_cdf((1 + (percent/100)) / 2.),4)\n",
    "Zc"
   ]
  },
  {
   "cell_type": "markdown",
   "metadata": {},
   "source": [
    "<br>\n",
    "\n",
    "## Interval Z\n",
    "\n",
    "### calculate bound of confidence using code bellow $\\downarrow \\downarrow$\n",
    "**bound = $\\bar x \\pm \\ Z_c * \\frac{s}{\\sqrt n}$**"
   ]
  },
  {
   "cell_type": "code",
   "execution_count": 11,
   "metadata": {},
   "outputs": [
    {
     "name": "stdout",
     "output_type": "stream",
     "text": [
      "xBar::23.2 PM term::0.9603 interval::: 22.2397:24.1603\n"
     ]
    }
   ],
   "source": [
    "def Z(Zc, xBar, sd, n):\n",
    "    return xBar, round((Zc * sd /sqrt(n)),4), round((xBar - (Zc * sd /sqrt(n))), 4), round((xBar + (Zc * sd /sqrt(n))), 4)\n",
    "\n",
    "# Z\n",
    "# 99% = 2.5758\n",
    "# 98% = 2.3263\n",
    "# 95% = 1.96\n",
    "# 90% = 1.6449\n",
    "# 94% = 1.8808\n",
    "\n",
    "\"\"\" Z(Zc, xBar, sd, n) \"\"\"\n",
    "print(\"xBar::{} PM term::{} interval::: {}:{}\".format(*Z(Zc, xBar, sd, n)))\n",
    "\n"
   ]
  },
  {
   "cell_type": "markdown",
   "metadata": {},
   "source": [
    "\n",
    "<br>\n",
    "\n",
    "### NOW FIND $T_c$ = x(P) in table!!!"
   ]
  },
  {
   "cell_type": "code",
   "execution_count": 12,
   "metadata": {},
   "outputs": [
    {
     "data": {
      "text/plain": [
       "1.714"
      ]
     },
     "execution_count": 12,
     "metadata": {},
     "output_type": "execute_result"
    }
   ],
   "source": [
    "if P <= 15:\n",
    "    Tc = round(t.ppf(1 - alpha / 2, n - 1), 3)\n",
    "else:    \n",
    "    Tc = round(t.ppf(1 - alpha / 2, n - 1), 4)\n",
    "Tc    "
   ]
  },
  {
   "cell_type": "markdown",
   "metadata": {},
   "source": [
    "<br>\n",
    "\n",
    "## Interval T\n",
    "\n",
    "### calculate bound of confidence using code bellow $\\downarrow \\downarrow$\n",
    "**bound = $\\bar x \\pm \\ T_c * \\frac{s}{\\sqrt n}$**"
   ]
  },
  {
   "cell_type": "code",
   "execution_count": 13,
   "metadata": {},
   "outputs": [
    {
     "name": "stdout",
     "output_type": "stream",
     "text": [
      "T interval:::  (22.1994, 24.2006)\n"
     ]
    }
   ],
   "source": [
    "def T(Tc, xBar, sd, n):\n",
    "    return round((xBar - (Tc * sd /sqrt(n))), 4), round((xBar + (Tc * sd /sqrt(n))), 4)\n",
    "\n",
    "# Z\n",
    "# 99% = 2.5758\n",
    "# 98% = 2.3263\n",
    "# 95% = 1.96\n",
    "# 90% = 1.6449\n",
    "# 94% = 1.8808\n",
    "\n",
    "\"\"\" T(Tc, xBar, sd, n) \"\"\"\n",
    "print(\"T interval::: \", T(Tc, xBar, sd, n))\n",
    "\n"
   ]
  },
  {
   "cell_type": "markdown",
   "metadata": {},
   "source": [
    "<br>\n",
    "\n",
    "## Population - large sample\n",
    "\n",
    "### from $\\alpha$, first look up area in $Z_c$ in % tables\n",
    "* **double side : $Z_c = \\frac{\\alpha * 100}{2}$**"
   ]
  },
  {
   "cell_type": "code",
   "execution_count": 14,
   "metadata": {
    "scrolled": true
   },
   "outputs": [
    {
     "data": {
      "text/plain": [
       "278"
      ]
     },
     "execution_count": 14,
     "metadata": {},
     "output_type": "execute_result"
    }
   ],
   "source": [
    "Minority"
   ]
  },
  {
   "cell_type": "code",
   "execution_count": 15,
   "metadata": {
    "scrolled": false
   },
   "outputs": [
    {
     "data": {
      "text/plain": [
       "11.5833"
      ]
     },
     "execution_count": 15,
     "metadata": {},
     "output_type": "execute_result"
    }
   ],
   "source": [
    "pHat = round((Minority / n) , 4)  \n",
    "pHat"
   ]
  },
  {
   "cell_type": "code",
   "execution_count": 16,
   "metadata": {},
   "outputs": [
    {
     "data": {
      "text/plain": [
       "1.6449"
      ]
     },
     "execution_count": 16,
     "metadata": {},
     "output_type": "execute_result"
    }
   ],
   "source": [
    "Zc"
   ]
  },
  {
   "cell_type": "markdown",
   "metadata": {},
   "source": [
    "**IF n$\\hat p$ and n(1 - $\\hat p$) >5 :**"
   ]
  },
  {
   "cell_type": "code",
   "execution_count": 17,
   "metadata": {},
   "outputs": [
    {
     "name": "stdout",
     "output_type": "stream",
     "text": [
      "n*pHat 277.9992\n",
      "n*(1-pHat) -253.99919999999997\n"
     ]
    }
   ],
   "source": [
    "print(\"n*pHat\",n*pHat)\n",
    "print(\"n*(1-pHat)\",n*(1-pHat))"
   ]
  },
  {
   "cell_type": "markdown",
   "metadata": {},
   "source": [
    "\n",
    "\n",
    "### calculate Z using code bellow $\\downarrow \\downarrow$\n",
    "**population bound  = $\\hat p \\pm \\ \\ Z_c * \\ \\sqrt \\frac{\\hat p\\ (1- \\hat p)}{n}$**"
   ]
  },
  {
   "cell_type": "code",
   "execution_count": 18,
   "metadata": {},
   "outputs": [
    {
     "name": "stdout",
     "output_type": "stream",
     "text": [
      "1.6449 11.5833 24\n"
     ]
    },
    {
     "ename": "ValueError",
     "evalue": "math domain error",
     "output_type": "error",
     "traceback": [
      "\u001B[1;31m---------------------------------------------------------------------------\u001B[0m",
      "\u001B[1;31mValueError\u001B[0m                                Traceback (most recent call last)",
      "\u001B[1;32m<ipython-input-18-4eca18a9477e>\u001B[0m in \u001B[0;36m<module>\u001B[1;34m\u001B[0m\n\u001B[0;32m      4\u001B[0m \u001B[1;33m\u001B[0m\u001B[0m\n\u001B[0;32m      5\u001B[0m \u001B[1;34m\"\"\"pmean(Zc, pHat, n)\"\"\"\u001B[0m\u001B[1;33m\u001B[0m\u001B[1;33m\u001B[0m\u001B[0m\n\u001B[1;32m----> 6\u001B[1;33m \u001B[0mprint\u001B[0m\u001B[1;33m(\u001B[0m\u001B[1;34m\"pHat:: {} +- term:: {} pmean range:::{} --> {} \"\u001B[0m\u001B[1;33m.\u001B[0m\u001B[0mformat\u001B[0m\u001B[1;33m(\u001B[0m\u001B[1;33m*\u001B[0m\u001B[0mpmean\u001B[0m\u001B[1;33m(\u001B[0m\u001B[0mZc\u001B[0m\u001B[1;33m,\u001B[0m \u001B[0mpHat\u001B[0m\u001B[1;33m,\u001B[0m \u001B[0mn\u001B[0m\u001B[1;33m)\u001B[0m\u001B[1;33m)\u001B[0m\u001B[1;33m)\u001B[0m\u001B[1;33m\u001B[0m\u001B[1;33m\u001B[0m\u001B[0m\n\u001B[0m",
      "\u001B[1;32m<ipython-input-18-4eca18a9477e>\u001B[0m in \u001B[0;36mpmean\u001B[1;34m(Zc, pHat, n)\u001B[0m\n\u001B[0;32m      1\u001B[0m \u001B[1;32mdef\u001B[0m \u001B[0mpmean\u001B[0m\u001B[1;33m(\u001B[0m\u001B[0mZc\u001B[0m\u001B[1;33m,\u001B[0m \u001B[0mpHat\u001B[0m\u001B[1;33m,\u001B[0m \u001B[0mn\u001B[0m\u001B[1;33m)\u001B[0m\u001B[1;33m:\u001B[0m\u001B[1;33m\u001B[0m\u001B[1;33m\u001B[0m\u001B[0m\n\u001B[0;32m      2\u001B[0m     \u001B[0mprint\u001B[0m \u001B[1;33m(\u001B[0m\u001B[0mZc\u001B[0m\u001B[1;33m,\u001B[0m \u001B[0mpHat\u001B[0m\u001B[1;33m,\u001B[0m \u001B[0mn\u001B[0m\u001B[1;33m)\u001B[0m\u001B[1;33m\u001B[0m\u001B[1;33m\u001B[0m\u001B[0m\n\u001B[1;32m----> 3\u001B[1;33m     \u001B[1;32mreturn\u001B[0m \u001B[0mpHat\u001B[0m\u001B[1;33m,\u001B[0m \u001B[0mround\u001B[0m\u001B[1;33m(\u001B[0m\u001B[1;33m(\u001B[0m\u001B[0mZc\u001B[0m \u001B[1;33m*\u001B[0m \u001B[0msqrt\u001B[0m\u001B[1;33m(\u001B[0m\u001B[0mpHat\u001B[0m\u001B[1;33m*\u001B[0m\u001B[1;33m(\u001B[0m\u001B[1;36m1\u001B[0m\u001B[1;33m-\u001B[0m\u001B[0mpHat\u001B[0m\u001B[1;33m)\u001B[0m\u001B[1;33m/\u001B[0m\u001B[0mn\u001B[0m\u001B[1;33m)\u001B[0m\u001B[1;33m)\u001B[0m\u001B[1;33m,\u001B[0m\u001B[1;36m4\u001B[0m\u001B[1;33m)\u001B[0m\u001B[1;33m,\u001B[0m \u001B[0mround\u001B[0m\u001B[1;33m(\u001B[0m\u001B[1;33m(\u001B[0m\u001B[0mpHat\u001B[0m \u001B[1;33m-\u001B[0m \u001B[1;33m(\u001B[0m\u001B[0mZc\u001B[0m \u001B[1;33m*\u001B[0m \u001B[0msqrt\u001B[0m\u001B[1;33m(\u001B[0m\u001B[0mpHat\u001B[0m\u001B[1;33m*\u001B[0m\u001B[1;33m(\u001B[0m\u001B[1;36m1\u001B[0m\u001B[1;33m-\u001B[0m\u001B[0mpHat\u001B[0m\u001B[1;33m)\u001B[0m\u001B[1;33m/\u001B[0m\u001B[0mn\u001B[0m\u001B[1;33m)\u001B[0m\u001B[1;33m)\u001B[0m\u001B[1;33m)\u001B[0m\u001B[1;33m,\u001B[0m \u001B[1;36m4\u001B[0m\u001B[1;33m)\u001B[0m\u001B[1;33m,\u001B[0m \u001B[0mround\u001B[0m\u001B[1;33m(\u001B[0m\u001B[1;33m(\u001B[0m\u001B[0mpHat\u001B[0m \u001B[1;33m+\u001B[0m \u001B[1;33m(\u001B[0m\u001B[0mZc\u001B[0m \u001B[1;33m*\u001B[0m \u001B[0msqrt\u001B[0m\u001B[1;33m(\u001B[0m\u001B[0mpHat\u001B[0m\u001B[1;33m*\u001B[0m\u001B[1;33m(\u001B[0m\u001B[1;36m1\u001B[0m\u001B[1;33m-\u001B[0m\u001B[0mpHat\u001B[0m\u001B[1;33m)\u001B[0m\u001B[1;33m/\u001B[0m\u001B[0mn\u001B[0m\u001B[1;33m)\u001B[0m\u001B[1;33m)\u001B[0m\u001B[1;33m)\u001B[0m\u001B[1;33m,\u001B[0m\u001B[1;36m4\u001B[0m\u001B[1;33m)\u001B[0m\u001B[1;33m\u001B[0m\u001B[1;33m\u001B[0m\u001B[0m\n\u001B[0m\u001B[0;32m      4\u001B[0m \u001B[1;33m\u001B[0m\u001B[0m\n\u001B[0;32m      5\u001B[0m \u001B[1;34m\"\"\"pmean(Zc, pHat, n)\"\"\"\u001B[0m\u001B[1;33m\u001B[0m\u001B[1;33m\u001B[0m\u001B[0m\n",
      "\u001B[1;31mValueError\u001B[0m: math domain error"
     ]
    }
   ],
   "source": [
    "def pmean(Zc, pHat, n):\n",
    "    print (Zc, pHat, n)\n",
    "    return pHat, round((Zc * sqrt(pHat*(1-pHat)/n)),4), round((pHat - (Zc * sqrt(pHat*(1-pHat)/n))), 4), round((pHat + (Zc * sqrt(pHat*(1-pHat)/n))),4)\n",
    "\n",
    "\"\"\"pmean(Zc, pHat, n)\"\"\"\n",
    "print(\"pHat:: {} +- term:: {} pmean range:::{} --> {} \".format(*pmean(Zc, pHat, n)))"
   ]
  },
  {
   "cell_type": "code",
   "execution_count": null,
   "metadata": {},
   "outputs": [],
   "source": []
  }
 ],
 "metadata": {
  "kernelspec": {
   "display_name": "Python 3",
   "language": "python",
   "name": "python3"
  },
  "language_info": {
   "codemirror_mode": {
    "name": "ipython",
    "version": 3
   },
   "file_extension": ".py",
   "mimetype": "text/x-python",
   "name": "python",
   "nbconvert_exporter": "python",
   "pygments_lexer": "ipython3",
   "version": "3.8.5"
  },
  "toc": {
   "base_numbering": 1,
   "nav_menu": {},
   "number_sections": false,
   "sideBar": false,
   "skip_h1_title": false,
   "title_cell": "Table of Contents",
   "title_sidebar": "Contents",
   "toc_cell": false,
   "toc_position": {},
   "toc_section_display": false,
   "toc_window_display": false
  }
 },
 "nbformat": 4,
 "nbformat_minor": 4
}