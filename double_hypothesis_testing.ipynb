{
 "cells": [
  {
   "cell_type": "markdown",
   "metadata": {},
   "source": [
    "## DOUBLE HYPOTHESIS TESTING"
   ]
  },
  {
   "cell_type": "code",
   "execution_count": 1,
   "metadata": {},
   "outputs": [],
   "source": [
    "from math import sqrt\n",
    "from scipy.stats import zscore\n",
    "from scipy.stats import t\n",
    "from statistics import NormalDist"
   ]
  },
  {
   "cell_type": "markdown",
   "metadata": {},
   "source": [
    "<br>\n",
    "\n",
    "## Hypothesis : Independant\n",
    "\n",
    "### from $\\alpha$, first look up area in $Z_c$ or $t_c$ [df =  n1+n2-2 ]  in % tables\n",
    "* **Single side : $Z_c = \\alpha * 100$** \n",
    "* **double side : $Z_c = \\frac{\\alpha * 100}{2}$**\n",
    "\n",
    "### calculate Z or t using code bellow $\\downarrow \\downarrow$\n",
    "**zt_val = $\\frac{(\\bar x_1 - \\bar x_2) - D_0}{\\sqrt \\frac{s_1 ^ 2}{n_1} + \\frac{s_2 ^ 2}{n_2}}$**\n",
    "\n",
    "### Lower side $H_a : \\mu 1 - \\mu 2 \\lt D_0$\n",
    "* **Z $\\lt - Z_c$ ...... Reject $H_0$ at significance $\\alpha$**\n",
    "* **Z $\\gt - Z_c$....   Do Not Reject $H_0$ at significance $\\alpha$**\n",
    "\n",
    "### Upper side $H_a : \\mu 1 - \\mu 2 \\gt D_0$\n",
    "* **Z $\\gt Z_c$ ...... Reject $H_0$ at significance $\\alpha$**\n",
    "* **Z $\\lt Z_c$....   Do Not Reject $H_0$ at significance $\\alpha$**"
   ]
  },
  {
   "cell_type": "markdown",
   "metadata": {},
   "source": [
    "## BEWARE OF SD and varaince!!!"
   ]
  },
  {
   "cell_type": "code",
   "execution_count": 2,
   "metadata": {},
   "outputs": [
    {
     "name": "stdout",
     "output_type": "stream",
     "text": [
      "zt_val :::   3.0542\n"
     ]
    }
   ],
   "source": [
    "\"\"\" FOR Z \"\"\"\n",
    "def z_val(x1Bar, x2Bar, D0, var1, n1, var2, n2):\n",
    "    return round((((x1Bar - x2Bar) - D0) / sqrt(((var1) /n1) + ((var2) /n2))), 4)\n",
    "\n",
    "# z_val(x1Bar, x2Bar, D0, var1, n1, var2, n2)\n",
    "x1Bar, x2Bar, D0, var1, n1, var2, n2 = 9.3, 7.4, 0, 22.4, 100, 16.3, 100\n",
    "print(\"zt_val :::  \", z_val(x1Bar, x2Bar, D0, var1, n1, var2, n2))"
   ]
  },
  {
   "cell_type": "markdown",
   "metadata": {},
   "source": [
    "## BEWARE OF SD and varaince!!!"
   ]
  },
  {
   "cell_type": "code",
   "execution_count": 3,
   "metadata": {},
   "outputs": [
    {
     "name": "stdout",
     "output_type": "stream",
     "text": [
      "Sp:: 261.9878 t_val:: 1.9135\n"
     ]
    }
   ],
   "source": [
    "\"\"\" FOR t \"\"\"\n",
    "def t_val(x1Bar, x2Bar, D0, var1, n1, var2, n2):\n",
    "    pooledVar = round(((((n1-1) * var1)  + ((n2-1) * var2)) / (n1 + n2 -2)), 4) \n",
    "    return pooledVar, round((((x1Bar - x2Bar) - D0) / sqrt(((pooledVar) /n1) + ((pooledVar) /n2))), 4)\n",
    "\n",
    "# t_val(x1Bar, x2Bar, D0, var1, n1, var2, n2)\n",
    "x1Bar, x2Bar, D0, var1, n1, var2, n2 = 69.34, 54.74, 0, pow(15.34,2), 9, pow(16.99,2), 9\n",
    "print(\"Sp:: {} t_val:: {}\".format(*t_val(x1Bar, x2Bar, D0, var1, n1, var2, n2)))"
   ]
  },
  {
   "cell_type": "markdown",
   "metadata": {},
   "source": [
    "<br>\n",
    "\n",
    "## Using P-values\n",
    "\n",
    "### first calculate $Z$ or $t$ using above cell $\\uparrow \\uparrow$\n",
    "### Then, look up area under curve using Z or t table\n",
    "\n",
    "#### Lower side\n",
    "* **Single side:   $P\\_val = P(Area \\lt z)$**\n",
    "* **double side :   $P\\_val = 2 * P(Area \\lt z)$**\n",
    "\n",
    "#### Upper side\n",
    "* **Single side:   $P\\_val = P(Area \\gt z)$**\n",
    "* **double side :   $P\\_val = 2 * P(Area \\gt z)$**\n",
    "\n",
    "#### Hypothesis\n",
    "* **P-value $\\leq \\alpha$...... Reject $H_0$ at significance $\\alpha$**\n",
    "* **P-value $\\gt \\alpha$....   Do Not Reject $H_0$ at significance $\\alpha$**"
   ]
  },
  {
   "cell_type": "markdown",
   "metadata": {},
   "source": [
    "<br>\n",
    "\n",
    "## CONFIDENCE INTERVAL\n",
    "### from percent interval (eg. p = 95%), find P value for $\\frac{\\alpha}{2} * 100 = \\frac{1- (95/100)}{2} * 100 = 2.5$, and look up area in $Z_c$ or $t_c$ [df = n1+n2-2] in % tables\n",
    "find x(P) for P=2.5 in Z % table--> 1.96 etc."
   ]
  },
  {
   "cell_type": "code",
   "execution_count": 4,
   "metadata": {},
   "outputs": [
    {
     "name": "stdout",
     "output_type": "stream",
     "text": [
      "P:::  2.5\n"
     ]
    }
   ],
   "source": [
    "def find_P(percentage):\n",
    "    return round((((1 - (percentage / 100))/ 2) * 100),3)\n",
    "\n",
    "print(\"P::: \", find_P(95))"
   ]
  },
  {
   "cell_type": "markdown",
   "metadata": {},
   "source": [
    "### NOW FIND $Z_c$ = x(P) in table!!!"
   ]
  },
  {
   "cell_type": "markdown",
   "metadata": {},
   "source": [
    "\n",
    "## Interval\n",
    "\n",
    "### calculate bound of confidence using code bellow $\\downarrow \\downarrow$\n",
    "**bound = $(\\bar x_1 - \\bar x_2) \\pm \\ \\ Z_c \\sqrt {\\frac{s_1 ^ 2}{n_1} + \\frac{s_2 ^ 2}{n_2}}$**\n",
    "\n",
    "### THIS SHOWS THAT: we are p% confident that outcome for $x_1$ is between [lower range] : [upper range] more than $x_2$"
   ]
  },
  {
   "cell_type": "code",
   "execution_count": 5,
   "metadata": {},
   "outputs": [
    {
     "name": "stdout",
     "output_type": "stream",
     "text": [
      "zt_val :::   (0.6807, 3.1193)\n"
     ]
    }
   ],
   "source": [
    "\"\"\" FOR Z \"\"\"\n",
    "\n",
    "def z(x1Bar, x2Bar, Zc, var1, n1, var2, n2):\n",
    "    product = Zc * sqrt((var1/n1) + (var2/n2))\n",
    "    return round(((x1Bar - x2Bar) - product), 4), round(((x1Bar - x2Bar) + product), 4)\n",
    "\n",
    "\"\"\"z(x1Bar, x2Bar, Zc, var1, n1, var2, n2)\"\"\"\n",
    "x1Bar, x2Bar, Zc, var1, n1, var2, n2 = 9.3, 7.4, 1.96, 22.4, 100, 16.3, 100\n",
    "print(\"zt_val :::  \", z(x1Bar, x2Bar, Zc, var1, n1, var2, n2))\n"
   ]
  },
  {
   "cell_type": "code",
   "execution_count": 6,
   "metadata": {},
   "outputs": [
    {
     "name": "stdout",
     "output_type": "stream",
     "text": [
      "Sp::261.98785 x1-x2::14.6 product::16.176 CI_range::-1.576 : 30.776 \n"
     ]
    }
   ],
   "source": [
    "\"\"\" FOR t\"\"\"\n",
    "\n",
    "def t_CI(x1Bar, x2Bar, Tc, var1, n1, var2, n2):\n",
    "    pooledVar = (((n1-1) * var1)  + ((n2-1) * var2)) / (n1 + n2 -2)\n",
    "    product = Tc * (sqrt((pooledVar/n1) + (pooledVar/n2)))\n",
    "    return pooledVar, round((x1Bar - x2Bar),4), round(product,4),round(((x1Bar - x2Bar) - product), 4), round(((x1Bar - x2Bar) + product), 4)\n",
    "\n",
    "\"\"\"t_CI(x1Bar, x2Bar, Tc, var1, n1, var2, n2)\"\"\"\n",
    "x1Bar, x2Bar, Tc, var1, n1, var2, n2 = 69.34, 54.74, 2.12, pow(15.34,2), 9, pow(16.99,2), 9\n",
    "print(\"Sp::{} x1-x2::{} product::{} CI_range::{} : {} \".format(*t_CI(x1Bar, x2Bar, Tc, var1, n1, var2, n2)))\n"
   ]
  },
  {
   "cell_type": "markdown",
   "metadata": {},
   "source": [
    "<br>\n",
    "\n",
    "## Population - large sample\n",
    "\n",
    "### from $\\alpha$, first look up area in $Z_c$ in % tables\n",
    "* **Single side : $Z_c = \\alpha * 100$** \n",
    "* **double side : $Z_c = \\frac{\\alpha * 100}{2}$**\n",
    "\n",
    "**IF n$\\hat p$ and n(1 - $\\hat p$) >5 :**\n",
    "\n",
    "### calculate Z using code bellow $\\downarrow \\downarrow$\n",
    "z_population = $\\frac{(\\hat p1 - \\hat p2) \\ - \\  (p1-p2)}{\\sqrt {\\frac{p1*(1-p1)}{n2} + \\frac{p2*(1-p2)}{n2}}}$\n",
    "\n",
    "with $H_o: p1-p2 = 0$ implying $\\hat p1 = \\hat p2$:\n",
    "\n",
    "**$\\hat p = \\frac{(\\hat p1 * n1)(\\hat p2 * n2)}{n1 + n2}$**\n",
    "\n",
    "**TEST STATISTICS = z_population = $\\frac{(\\hat p1 - \\hat p2) \\ - \\  (0)}{\\sqrt {\\frac{\\hat p*(1-\\hat p)}{n1} + \\frac{\\hat p*(1-\\hat p)}{n2}}}$**\n",
    "\n",
    "\n",
    "### Lower side $H_a : p \\lt INT$\n",
    "* **Z $\\lt - Z_c$ ...... Reject $H_0$ at significance $\\alpha$**\n",
    "* **Z $\\gt - Z_c$....   Do Not Reject $H_0$ at significance $\\alpha$**\n",
    "\n",
    "### Upper side $H_a : p \\gt INT$\n",
    "* **Z $\\gt Z_c$ ...... Reject $H_0$ at significance $\\alpha$**\n",
    "* **Z $\\lt Z_c$....   Do Not Reject $H_0$ at significance $\\alpha$**"
   ]
  },
  {
   "cell_type": "markdown",
   "metadata": {},
   "source": [
    "### from percent interval (eg. p = 95%), find P value for $\\frac{\\alpha}{2} * 100 = \\frac{1- (95/100)}{2} * 100 = 2.5$, and look up area in $Z_c$ or $t_c$ [df = n-1] in % tables\n",
    "find x(P) for P=2.5 in Z % table--> 1.96 etc."
   ]
  },
  {
   "cell_type": "code",
   "execution_count": 7,
   "metadata": {},
   "outputs": [],
   "source": [
    "alpha = 0.05"
   ]
  },
  {
   "cell_type": "code",
   "execution_count": 8,
   "metadata": {},
   "outputs": [
    {
     "name": "stdout",
     "output_type": "stream",
     "text": [
      "P:::  2.5\n"
     ]
    }
   ],
   "source": [
    "def find_P(percentage):\n",
    "    return round(((alpha/ 2) * 100),3)\n",
    "\n",
    "P = find_P(alpha)\n",
    "print(\"P::: \", P)"
   ]
  },
  {
   "cell_type": "code",
   "execution_count": 9,
   "metadata": {},
   "outputs": [],
   "source": [
    "percent= (1 - alpha)*100"
   ]
  },
  {
   "cell_type": "code",
   "execution_count": 10,
   "metadata": {
    "scrolled": true
   },
   "outputs": [
    {
     "data": {
      "text/plain": [
       "1.96"
      ]
     },
     "execution_count": 10,
     "metadata": {},
     "output_type": "execute_result"
    }
   ],
   "source": [
    "Zc = round(NormalDist().inv_cdf((1 + (percent/100)) / 2.),4)\n",
    "Zc"
   ]
  },
  {
   "cell_type": "markdown",
   "metadata": {},
   "source": [
    "### input $\\hat p1$, $\\hat p2$, n1, n2"
   ]
  },
  {
   "cell_type": "code",
   "execution_count": 11,
   "metadata": {},
   "outputs": [],
   "source": [
    "p1Hat, p2Hat, n1, n2 = 0.77, 0.875, 200, 200"
   ]
  },
  {
   "cell_type": "code",
   "execution_count": 12,
   "metadata": {},
   "outputs": [
    {
     "name": "stdout",
     "output_type": "stream",
     "text": [
      "phat::0.8225 z_population::-2.748 \n"
     ]
    }
   ],
   "source": [
    "def z_population(p1Hat, p2Hat, n1, n2 ):\n",
    "    phat = round(((p1Hat*n1)+(p2Hat*n2))/(n1+n2), 4)\n",
    "    numerator = (p1Hat - p2Hat) - 0\n",
    "    denominator =  sqrt( (phat*(1-phat))*((1/n1) +(1/n2)) )\n",
    "    return phat, round((numerator / denominator ), 4)\n",
    "\n",
    "# z_population(pHat, p, n)\n",
    "print(\"phat::{} z_population::{} \".format(*z_population(p1Hat, p2Hat, n1, n2 )))\n",
    "\n",
    "\n"
   ]
  },
  {
   "cell_type": "code",
   "execution_count": 13,
   "metadata": {},
   "outputs": [
    {
     "name": "stdout",
     "output_type": "stream",
     "text": [
      "p1Hat-p2Hat::-0.105 product::0.0742 CI_range:: -0.1792 : -0.0308 \n"
     ]
    }
   ],
   "source": [
    "def Z_CI_pop(p1Hat, p2Hat,zc, n1, n2):\n",
    "    phat_diff = round((p1Hat- p2Hat),4) \n",
    "    product = zc * (sqrt( (((p1Hat*(1-p1Hat))/n1) +((p2Hat*(1-p2Hat))/n2)) ))\n",
    "    return phat_diff, round(product,4),round((phat_diff - product), 4), round((phat_diff + product), 4)\n",
    "\n",
    "\n",
    "# Z_CI_pop(pHat, p, n)\n",
    "p1Hat, p2Hat,zc, n1, n2 = 0.77, 0.875, 1.96, 200, 200\n",
    "print(\"p1Hat-p2Hat::{} product::{} CI_range:: {} : {} \".format(*Z_CI_pop(p1Hat, p2Hat,zc, n1, n2)))"
   ]
  },
  {
   "cell_type": "code",
   "execution_count": null,
   "metadata": {},
   "outputs": [],
   "source": []
  }
 ],
 "metadata": {
  "kernelspec": {
   "display_name": "Python 3",
   "language": "python",
   "name": "python3"
  },
  "language_info": {
   "codemirror_mode": {
    "name": "ipython",
    "version": 3
   },
   "file_extension": ".py",
   "mimetype": "text/x-python",
   "name": "python",
   "nbconvert_exporter": "python",
   "pygments_lexer": "ipython3",
   "version": "3.8.5"
  },
  "toc": {
   "base_numbering": 1,
   "nav_menu": {},
   "number_sections": false,
   "sideBar": false,
   "skip_h1_title": false,
   "title_cell": "Table of Contents",
   "title_sidebar": "Contents",
   "toc_cell": false,
   "toc_position": {},
   "toc_section_display": false,
   "toc_window_display": false
  }
 },
 "nbformat": 4,
 "nbformat_minor": 4
}