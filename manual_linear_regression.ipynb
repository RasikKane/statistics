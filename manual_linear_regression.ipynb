{
 "cells": [
  {
   "cell_type": "markdown",
   "metadata": {},
   "source": [
    "## Linear Regression"
   ]
  },
  {
   "cell_type": "code",
   "execution_count": 1,
   "metadata": {},
   "outputs": [],
   "source": [
    "import pandas as pd\n",
    "import numpy as np\n",
    "from math import sqrt"
   ]
  },
  {
   "cell_type": "markdown",
   "metadata": {},
   "source": [
    "### Statistics "
   ]
  },
  {
   "cell_type": "code",
   "execution_count": 2,
   "metadata": {
    "scrolled": true
   },
   "outputs": [
    {
     "data": {
      "text/plain": [
       "22"
      ]
     },
     "execution_count": 2,
     "metadata": {},
     "output_type": "execute_result"
    }
   ],
   "source": [
    "n = 22\n",
    "n"
   ]
  },
  {
   "cell_type": "code",
   "execution_count": 3,
   "metadata": {
    "scrolled": false
   },
   "outputs": [
    {
     "name": "stdout",
     "output_type": "stream",
     "text": [
      "Summations {'x': 57.87, 'y': 185.6, 'x2': 154.73, 'y2': 1567.92, 'xy': 490.15}\n"
     ]
    }
   ],
   "source": [
    "addn = {'x': 0, 'y': 0, 'x2': 0, 'y2': 0, 'xy': 0}\n",
    "addn['x']  = 57.87\n",
    "addn['y']  = 185.6\n",
    "addn['x2'] = 154.73\n",
    "addn['y2'] = 1567.92\n",
    "addn['xy'] = 490.15\n",
    "print(\"Summations\",addn)"
   ]
  },
  {
   "cell_type": "code",
   "execution_count": 4,
   "metadata": {
    "scrolled": false
   },
   "outputs": [
    {
     "name": "stdout",
     "output_type": "stream",
     "text": [
      "avg {'x': 47, 'y': 31.125, 'x2': 0, 'y2': 0, 'xy': 0}\n"
     ]
    }
   ],
   "source": [
    "avg = {'x': 0, 'y': 0, 'x2': 0, 'y2': 0, 'xy': 0}\n",
    "avg['x']  = 47\n",
    "avg['y']  = 31.125\n",
    "avg['x2'] = 0\n",
    "avg['y2'] = 0\n",
    "avg['xy'] = 0\n",
    "print(\"avg\",avg)"
   ]
  },
  {
   "cell_type": "markdown",
   "metadata": {},
   "source": [
    "<br>\n",
    "\n",
    "### Correlation coefficient, $S_{xx}, S_{yy}, S_{xy}$\n",
    "\n",
    "**r = $\\frac{S_(xy)}{\\sqrt{S_(xx) S_(yy)}}$**\n",
    "\n",
    "WHERE <br>\n",
    "\n",
    "* **$\\large S_(xy) =  \\sum_{i=1}^{n} (x_i - \\bar x)(y_i - \\bar y) \\ \\ = \\sum xy \\ - \\ \\frac{\\sum x \\sum y}{n} $**\n",
    "* **$\\large S_(xx) =  \\sum_{i=1}^{n} (x_i - \\bar x)^2 \\ \\ = \\ (\\sum x^2) \\  - \\frac{(\\sum x)^2}{n}$**\n",
    "* **$\\large S_(yy) =  \\sum_{i=1}^{n} (y_i - \\bar y)^2 \\ \\ = \\ (\\sum y^2) \\  - \\frac{(\\sum y)^2}{n}$**\n",
    "\n",
    "\n",
    "**r = $\\Large \\frac{\\sum xy \\ - \\ \\frac{\\sum x \\sum y}{n} }{\\sqrt {[(\\sum x^2) \\  - \\frac{(\\sum x)^2}{n}][(\\sum y^2) \\  - \\frac{(\\sum y)^2}{n}]}}$**"
   ]
  },
  {
   "cell_type": "code",
   "execution_count": 5,
   "metadata": {},
   "outputs": [
    {
     "name": "stdout",
     "output_type": "stream",
     "text": [
      "Sxy:1.9376363636363862 Sxx:2.505595454545471 Syy:2.130909090909199 \n",
      "r: 0.839\n"
     ]
    }
   ],
   "source": [
    "# Numerator\n",
    "S_xy = addn['xy'] - (((addn['x']*addn['y']) / n))\n",
    "num_r = S_xy \n",
    "# denominator\n",
    "S_xx = (addn['x2'] - (pow(addn['x'],2) / n)) \n",
    "S_yy = (addn['y2'] - (pow(addn['y'],2) / n))\n",
    "den_r = sqrt(S_xx*S_yy)\n",
    "\n",
    "# correlation coefficient\n",
    "r = round((num_r/den_r),3)\n",
    "print(\"Sxy:{} Sxx:{} Syy:{} \".format(S_xy,S_xx,S_yy))\n",
    "print(\"r:\",r)"
   ]
  },
  {
   "cell_type": "markdown",
   "metadata": {},
   "source": [
    "## Linear Regression a, b\n",
    "\n",
    "**$\\large \\hat y = a + bx$** <br>\n",
    "\n",
    "FOR BEST FIT LINE : <br>\n",
    "\n",
    "**$\\large  b = \\frac{S_(xy)}{S_(xx)} \\ = \\ \\frac{\\sum (x\\ - \\ \\bar x)(y\\ - \\ \\bar y)}{\\sum (x - \\bar x)^2} = \\ \\ \\frac{\\sum xy \\ - \\ \\frac{\\sum x \\sum y}{n} }{(\\sum x^2) \\  - \\frac{(\\sum x)^2}{n}}  \\ \\ AND $**\n",
    "\n",
    "**$\\large \\bar y \\ = \\ a\\ + b\\bar x $**"
   ]
  },
  {
   "cell_type": "code",
   "execution_count": 6,
   "metadata": {},
   "outputs": [
    {
     "name": "stdout",
     "output_type": "stream",
     "text": [
      "xBar:47 yBar:31.125\n",
      "a:-5.2201 b:0.7733\n"
     ]
    }
   ],
   "source": [
    "# Numerator\n",
    "num_r = addn['xy'] - (((addn['x']*addn['y']) / n))\n",
    "# denominator\n",
    "den_r = (addn['x2'] - (pow(addn['x'],2) / n))\n",
    "\n",
    "# b\n",
    "b = round((num_r/den_r),4)\n",
    "\n",
    "# a\n",
    "a = round((avg['y']-(b*avg['x'])),4)\n",
    "\n",
    "print('xBar:{} yBar:{}'.format(avg['x'],avg['y']))\n",
    "print('a:{} b:{}'.format(a,b))"
   ]
  },
  {
   "cell_type": "markdown",
   "metadata": {},
   "source": [
    "## Assessing fit line"
   ]
  },
  {
   "cell_type": "markdown",
   "metadata": {},
   "source": [
    "### Residuals $SS_{Tot}, SS_{Resid}, SS_{Reg}$\n",
    "\n",
    "$Total\\ Variation = Explained\\ variation \\ +\\ Unexplained\\ variation$ <br> \n",
    "\n",
    "THAT IS : <br>\n",
    "$SS_{tot} = SS_{Reg} + SS_{Resid}$ <br>\n",
    "\n",
    "ALGEBRICALLY: <br>\n",
    "$\\sum (y\\ - \\ \\bar y)^2 = \\sum (\\hat y\\ - \\ \\bar y)^2 \\ + \\ \\sum (y \\ - \\hat y)^2 $ <br>\n",
    "\n",
    "THUS <br>\n",
    "$SS_{Tot} = \\sum y^2 - \\frac{(\\sum y)^2}{n}$ <br>\n",
    "$SS_{Resid} = \\sum y^2 -\\ a\\sum y -\\ b\\sum xy$ <br>\n",
    "$SS_{Reg} =\\  SS_{tot} - SS_{Resid}$ <br>"
   ]
  },
  {
   "cell_type": "code",
   "execution_count": 7,
   "metadata": {
    "scrolled": true
   },
   "outputs": [
    {
     "name": "stdout",
     "output_type": "stream",
     "text": [
      "SS_tot:2.1309 SS_resid:2157.7376 SS_reg:-2155.6067\n"
     ]
    }
   ],
   "source": [
    "# total variation\n",
    "SS_tot = round((addn['y2'] - (pow(addn['y'],2)/n)),4)\n",
    "# Explained variation\n",
    "SS_resid = round((addn['y2'] - (a*addn['y']) - (b*addn['xy'])),4)\n",
    "# unexplained variation\n",
    "SS_reg = round((SS_tot - SS_resid),4)\n",
    "\n",
    "print(\"SS_tot:{} SS_resid:{} SS_reg:{}\".format(SS_tot,SS_resid,SS_reg))"
   ]
  },
  {
   "cell_type": "markdown",
   "metadata": {},
   "source": [
    "### Coefficient of Determination : r2\n",
    "$\\large r^2 = \\frac{SS_{Reg}}{SS_{Tot}} \\ = 1 -\\ \\frac{SS_{Resid}}{SS_{Tot}}$ <br>"
   ]
  },
  {
   "cell_type": "code",
   "execution_count": 8,
   "metadata": {},
   "outputs": [
    {
     "name": "stdout",
     "output_type": "stream",
     "text": [
      "r2:  -1011.5945\n"
     ]
    }
   ],
   "source": [
    "# coefficient of determination\n",
    "r2 = round((SS_reg / SS_tot),4)\n",
    "\n",
    "print(\"r2: \",r2)"
   ]
  },
  {
   "cell_type": "markdown",
   "metadata": {},
   "source": [
    "### Standard deviation about Least Squares (LS) Line : $S_e, S_b$\n",
    "\n",
    "**$S_e = \\sqrt{\\frac{\\sum (y - \\hat y)^2}{n-2}} = \\ \\sqrt{\\frac{SS_{resid}}{n-2}}$** <br>\n",
    "**$S_b = \\sqrt{\\frac{(S_e)^2}{S_{xx}}} = \\ \\sqrt{\\frac{SS_{resid}}{n-2}}$**\n",
    "\n",
    "#### BEWARE : df = n-2 "
   ]
  },
  {
   "cell_type": "code",
   "execution_count": 9,
   "metadata": {},
   "outputs": [
    {
     "name": "stdout",
     "output_type": "stream",
     "text": [
      "Se2:  107.8869\n",
      "Se:  10.3869\n",
      "Sb:  6.5619\n"
     ]
    }
   ],
   "source": [
    "# standard deviation about LS line\n",
    "Se2 = round((SS_resid / (n-2)),4)\n",
    "Se = round(sqrt(Se2),4)\n",
    "Sb = round(sqrt(Se2 / S_xx),4)\n",
    "print(\"Se2: \",Se2)\n",
    "print(\"Se: \",Se)\n",
    "print(\"Sb: \",Sb)"
   ]
  },
  {
   "cell_type": "markdown",
   "metadata": {},
   "source": [
    "### Confidence interval for $\\beta $\n"
   ]
  },
  {
   "cell_type": "markdown",
   "metadata": {},
   "source": [
    "#### from percent interval (eg. p = 95%), find P value for $\\frac{\\alpha}{2} * 100 = \\frac{1- (95/100)}{2} * 100 = 2.5$, and look up area in  $t_c$ [df = n-2] in % tables\n",
    "\n",
    "$CI = b\\ \\pm \\ (t_c)S_b$\n",
    "\n",
    "* Calcuate $Sb$ using :\n",
    "    * $S_e$ which needs $SS_{resid}$\n",
    "    * $S_{xx}$"
   ]
  },
  {
   "cell_type": "code",
   "execution_count": 10,
   "metadata": {},
   "outputs": [
    {
     "name": "stdout",
     "output_type": "stream",
     "text": [
      "P:::  0.5\n"
     ]
    }
   ],
   "source": [
    "def find_P(percentage):\n",
    "    return round((((1 - (percentage / 100))/ 2) * 100),4)\n",
    "\n",
    "print(\"P::: \", find_P(99))"
   ]
  },
  {
   "cell_type": "markdown",
   "metadata": {},
   "source": [
    "#### Enter Tc"
   ]
  },
  {
   "cell_type": "code",
   "execution_count": 11,
   "metadata": {},
   "outputs": [],
   "source": [
    "tc = 1.943"
   ]
  },
  {
   "cell_type": "code",
   "execution_count": 12,
   "metadata": {},
   "outputs": [
    {
     "name": "stdout",
     "output_type": "stream",
     "text": [
      "b:0.7733 +- term:: 12.7498 pmean range:::-11.976 --> 13.523 \n"
     ]
    }
   ],
   "source": [
    "def CI(b, tc, Sb):\n",
    "    return round((tc*Sb),4), round((b-(tc*Sb)), 3), round((b+(tc*Sb)), 3)\n",
    "\n",
    "\"\"\"CI(b, tc, Sb)\"\"\"\n",
    "print(\"b:{} +- term:: {} pmean range:::{} --> {} \".format(b, *CI(b, tc, Sb)))"
   ]
  },
  {
   "cell_type": "markdown",
   "metadata": {},
   "source": [
    "## Interpretation of $\\hat y$\n",
    "\n",
    "$StandardError = \\ S_{a+bx^*} = S_e \\sqrt{\\frac{1}{n}\\ + \\frac{(x^* - \\bar x)^2}{S_{xx}}}$\n",
    "\n",
    "$PredictionInterval_{a+bx^*} = a+bx^* \\pm t_c \\sqrt{(S_e)^2\\ + (S_{a+bx^*})^2}$"
   ]
  },
  {
   "cell_type": "code",
   "execution_count": 13,
   "metadata": {},
   "outputs": [
    {
     "name": "stdout",
     "output_type": "stream",
     "text": [
      "47\n",
      "StandardError 290.426\n",
      "a+bx*:8.5503886 +- term:: 564.6584887160362 pmean range:::[-556.1081001160362, 573.2088773160363] \n"
     ]
    }
   ],
   "source": [
    "a = 6.43\n",
    "nb = 0.7642\n",
    "x_in = 2.742\n",
    "xBar = avg['x']\n",
    "print(xBar)\n",
    "#Standard error\n",
    "S_a_bx = round((Se * sqrt((1/n) +(pow((x_in - xBar),2)/(S_xx)))),3)\n",
    "S_a_bx2 = round(pow(S_a_bx,2),2)\n",
    "#Prediction interval\n",
    "a_bx = a + b*(x_in)\n",
    "pmterm = tc*sqrt(Se2 + S_a_bx2)\n",
    "interval = [a_bx-pmterm, a_bx+pmterm] \n",
    "print(\"StandardError\",S_a_bx)\n",
    "print(\"a+bx*:{} +- term:: {} pmean range:::{} \".format(a_bx,pmterm,interval))"
   ]
  },
  {
   "cell_type": "markdown",
   "metadata": {},
   "source": [
    "## Model Utility Test (Specific Test: H0 : $\\beta $ = 0)\n",
    "* **Calculate t -->  $\\ \\ \\ t = \\frac{b}{S_b}$**\n",
    "* **from t-table, find p-value of area under curve : p = 2(< Area t)**\n",
    "* Reject $H_o$ $ :  \\ \\ p \\lt \\alpha$"
   ]
  },
  {
   "cell_type": "code",
   "execution_count": 14,
   "metadata": {},
   "outputs": [
    {
     "name": "stdout",
     "output_type": "stream",
     "text": [
      "t:  0.118\n"
     ]
    }
   ],
   "source": [
    "t = round((b/Sb),3)\n",
    "print(\"t: \",t)"
   ]
  }
 ],
 "metadata": {
  "kernelspec": {
   "display_name": "stat",
   "language": "python",
   "name": "stat"
  },
  "language_info": {
   "codemirror_mode": {
    "name": "ipython",
    "version": 3
   },
   "file_extension": ".py",
   "mimetype": "text/x-python",
   "name": "python",
   "nbconvert_exporter": "python",
   "pygments_lexer": "ipython3",
   "version": "3.9.4"
  },
  "toc": {
   "base_numbering": 1,
   "nav_menu": {},
   "number_sections": false,
   "sideBar": false,
   "skip_h1_title": false,
   "title_cell": "Table of Contents",
   "title_sidebar": "Contents",
   "toc_cell": false,
   "toc_position": {
    "height": "calc(100% - 180px)",
    "left": "10px",
    "top": "150px",
    "width": "382px"
   },
   "toc_section_display": true,
   "toc_window_display": true
  }
 },
 "nbformat": 4,
 "nbformat_minor": 4
}
