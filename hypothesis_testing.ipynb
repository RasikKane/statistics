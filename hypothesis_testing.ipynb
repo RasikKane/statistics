{
 "cells": [
  {
   "cell_type": "markdown",
   "metadata": {},
   "source": [
    "## HYPOTHESIS TESTING"
   ]
  },
  {
   "cell_type": "code",
   "execution_count": 1,
   "metadata": {},
   "outputs": [],
   "source": [
    "from math import sqrt"
   ]
  },
  {
   "cell_type": "markdown",
   "metadata": {},
   "source": [
    "<br>\n",
    "\n",
    "## Hypothesis : single and Paired design\n",
    "\n",
    "### from $\\alpha$, first look up area in $Z_c$ or $t_c$ [df = n-1]  in % tables\n",
    "* **Single side : $Z_c = \\alpha * 100$** \n",
    "* **double side : $Z_c = \\frac{\\alpha * 100}{2}$**\n",
    "\n",
    "### calculate Z or t using code bellow $\\downarrow \\downarrow$\n",
    "**zt_val = $\\frac{\\bar x - \\mu}{s/\\sqrt n}$**\n",
    "\n",
    "### Lower side $H_a : \\mu \\lt INT$\n",
    "* **Z $\\lt - Z_c$ ...... Reject $H_0$ at significance $\\alpha$**\n",
    "* **Z $\\gt - Z_c$....   Do Not Reject $H_0$ at significance $\\alpha$**\n",
    "\n",
    "### Upper side $H_a : \\mu \\gt INT$\n",
    "* **Z $\\gt Z_c$ ...... Reject $H_0$ at significance $\\alpha$**\n",
    "* **Z $\\lt Z_c$....   Do Not Reject $H_0$ at significance $\\alpha$**"
   ]
  },
  {
   "cell_type": "code",
   "execution_count": 2,
   "metadata": {},
   "outputs": [
    {
     "name": "stdout",
     "output_type": "stream",
     "text": [
      "zt_val :::   -2.2998\n"
     ]
    }
   ],
   "source": [
    "def zt_val(xBar, mu, sd, n):\n",
    "    return round(((xBar - mu) / (sd / sqrt(n))), 4)\n",
    "\n",
    "# zt_val(xBar, mu,  sd, n)\n",
    "xBar, mu,  sd, n = 48.8, 50, 3.3, 40\n",
    "print(\"zt_val :::  \", zt_val(xBar, mu,  sd, n ))\n",
    "\n",
    "\n"
   ]
  },
  {
   "cell_type": "markdown",
   "metadata": {},
   "source": [
    "<br>\n",
    "\n",
    "## Using P-values\n",
    "\n",
    "### first calculate $Z$ or $t$ using above cell $\\uparrow \\uparrow$\n",
    "### Then, look up area under curve using Z or t table\n",
    "* **Single side:   $P\\_val = P(Area \\lt z)$**\n",
    "* **double side :   $P\\_val = 2 * P(Area \\lt z)$**\n",
    "\n",
    "\n",
    "* **P-value $\\leq \\alpha$...... Reject $H_0$ at significance $\\alpha$**\n",
    "* **P-value $\\gt \\alpha$....   Do Not Reject $H_0$ at significance $\\alpha$**"
   ]
  },
  {
   "cell_type": "markdown",
   "metadata": {},
   "source": [
    "<br>\n",
    "\n",
    "## Population - large sample\n",
    "\n",
    "### from $\\alpha$, first look up area in $Z_c$ in % tables\n",
    "* **Single side : $Z_c = \\alpha * 100$** \n",
    "* **double side : $Z_c = \\frac{\\alpha * 100}{2}$**\n",
    "\n",
    "### calculate Z using code bellow $\\downarrow \\downarrow$\n",
    "**z_population = $\\frac{\\hat p - p}{\\sqrt \\frac{p*(1-p)}{n}}$**\n",
    "\n",
    "### Lower side $H_a : p \\lt INT$\n",
    "* **Z $\\lt - Z_c$ ...... Reject $H_0$ at significance $\\alpha$**\n",
    "* **Z $\\gt - Z_c$....   Do Not Reject $H_0$ at significance $\\alpha$**\n",
    "\n",
    "### Upper side $H_a : p \\gt INT$\n",
    "* **Z $\\gt Z_c$ ...... Reject $H_0$ at significance $\\alpha$**\n",
    "* **Z $\\lt Z_c$....   Do Not Reject $H_0$ at significance $\\alpha$**"
   ]
  },
  {
   "cell_type": "code",
   "execution_count": 3,
   "metadata": {},
   "outputs": [
    {
     "name": "stdout",
     "output_type": "stream",
     "text": [
      "z_population:::  -0.9238\n"
     ]
    }
   ],
   "source": [
    "def z_population(pHat, p, n):\n",
    "    return round(((pHat - p) / sqrt((p*(1-p))/ n)), 4)\n",
    "\n",
    "# z_population(pHat, p, n)\n",
    "pHat, p, n = 0.21, 0.25, 100\n",
    "print(\"z_population::: \", z_population(pHat, p, n))\n",
    "\n",
    "\n"
   ]
  },
  {
   "cell_type": "code",
   "execution_count": null,
   "metadata": {},
   "outputs": [],
   "source": []
  }
 ],
 "metadata": {
  "kernelspec": {
   "display_name": "stat",
   "language": "python",
   "name": "stat"
  },
  "language_info": {
   "codemirror_mode": {
    "name": "ipython",
    "version": 3
   },
   "file_extension": ".py",
   "mimetype": "text/x-python",
   "name": "python",
   "nbconvert_exporter": "python",
   "pygments_lexer": "ipython3",
   "version": "3.9.4"
  },
  "toc": {
   "base_numbering": 1,
   "nav_menu": {},
   "number_sections": false,
   "sideBar": false,
   "skip_h1_title": false,
   "title_cell": "Table of Contents",
   "title_sidebar": "Contents",
   "toc_cell": false,
   "toc_position": {},
   "toc_section_display": false,
   "toc_window_display": false
  }
 },
 "nbformat": 4,
 "nbformat_minor": 4
}
